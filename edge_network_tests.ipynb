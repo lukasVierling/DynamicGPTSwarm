{
 "cells": [
  {
   "cell_type": "code",
   "execution_count": 9,
   "metadata": {},
   "outputs": [],
   "source": [
    "import torch\n",
    "import torch.nn as nn\n",
    "import torch.optim as optim\n",
    "from transformers import AutoModel, AutoTokenizer\n",
    "from swarm.optimizer.edge_optimizer.edge_network import EdgeNetwork\n",
    "from swarm.optimizer.edge_optimizer.parameterization import EdgeWiseDistributionByModel\n",
    "import pickle as pkl\n",
    "import numpy as np"
   ]
  },
  {
   "cell_type": "code",
   "execution_count": 6,
   "metadata": {},
   "outputs": [],
   "source": [
    "with open(\"result/crosswords/experiment1_final_utilities.pkl\", \"rb\") as file:\n",
    "    utilities = pkl.load(file)"
   ]
  },
  {
   "cell_type": "code",
   "execution_count": 11,
   "metadata": {},
   "outputs": [
    {
     "name": "stdout",
     "output_type": "stream",
     "text": [
      "[0.8, 0.8, 0.7, 1.0, 0.7, 1.0, 1.0, 0.5, 0.5, 0.8, 0.7, 0.4, 0.4, 0.6, 0.1, 0.8, 0.5, 1.0, 0.6, 0.2]\n",
      "0.655\n"
     ]
    }
   ],
   "source": [
    "print(utilities)\n",
    "print(np.mean(utilities))"
   ]
  },
  {
   "cell_type": "code",
   "execution_count": 23,
   "metadata": {},
   "outputs": [],
   "source": [
    "potential_connections = [0 for _ in range(188)]\n",
    "init_connection_probability = 0.1\n",
    "domain = \"crosswords\"\n",
    "llm_backbone_name=\"gpt2\""
   ]
  },
  {
   "cell_type": "code",
   "execution_count": null,
   "metadata": {},
   "outputs": [],
   "source": [
    "swarm = Swarm([\"CrosswordsReflection\", \"CrosswordsToT\", \"CrosswordsBruteForceOpt\"], \"crosswords\", \"gpt-3.5-turbo-1106\", #\"gpt-4-1106-preview\"\n",
    "            final_node_class=\"ReturnAll\", \n",
    "            final_node_kwargs={},\n",
    "            edge_optimize=True,\n",
    "            init_connection_probability=init_connection_probability, \n",
    "            connect_output_nodes_to_final_node=connect_output_nodes_to_final_node, \n",
    "            include_inner_agent_connections=include_inner_agent_connections,\n",
    "            edge_network_enable=edge_network_enable,\n",
    "            llm_backbone_name=llm_backbone_name)"
   ]
  },
  {
   "cell_type": "code",
   "execution_count": 25,
   "metadata": {},
   "outputs": [
    {
     "ename": "TypeError",
     "evalue": "'int' object is not iterable",
     "output_type": "error",
     "traceback": [
      "\u001b[0;31m---------------------------------------------------------------------------\u001b[0m",
      "\u001b[0;31mTypeError\u001b[0m                                 Traceback (most recent call last)",
      "Cell \u001b[0;32mIn[25], line 2\u001b[0m\n\u001b[1;32m      1\u001b[0m edge_network \u001b[38;5;241m=\u001b[39m EdgeNetwork(llm_backbone_name\u001b[38;5;241m=\u001b[39mllm_backbone_name, num_edges\u001b[38;5;241m=\u001b[39m\u001b[38;5;28mlen\u001b[39m(potential_connections), initial_probability\u001b[38;5;241m=\u001b[39minit_connection_probability)\n\u001b[0;32m----> 2\u001b[0m connection_dist \u001b[38;5;241m=\u001b[39m \u001b[43mEdgeWiseDistributionByModel\u001b[49m\u001b[43m(\u001b[49m\u001b[43mpotential_connections\u001b[49m\u001b[43m,\u001b[49m\u001b[43m \u001b[49m\u001b[43medge_network\u001b[49m\u001b[43m,\u001b[49m\u001b[43m \u001b[49m\u001b[43mdomain\u001b[49m\u001b[43m)\u001b[49m\n\u001b[1;32m      4\u001b[0m connection_dist\u001b[38;5;241m.\u001b[39mload_state_dict(torch\u001b[38;5;241m.\u001b[39mload(\u001b[38;5;124m\"\u001b[39m\u001b[38;5;124mresult/crosswords/experiment_edge_logits_10.pt\u001b[39m\u001b[38;5;124m\"\u001b[39m))\n",
      "File \u001b[0;32m~/thesis/DynamicGPTSwarm/swarm/optimizer/edge_optimizer/parameterization.py:159\u001b[0m, in \u001b[0;36mEdgeWiseDistributionByModel.__init__\u001b[0;34m(self, potential_connections, model, domain)\u001b[0m\n\u001b[1;32m    157\u001b[0m \u001b[38;5;28msuper\u001b[39m()\u001b[38;5;241m.\u001b[39m\u001b[38;5;21m__init__\u001b[39m(potential_connections)\n\u001b[1;32m    158\u001b[0m \u001b[38;5;28mself\u001b[39m\u001b[38;5;241m.\u001b[39mmodel \u001b[38;5;241m=\u001b[39m model\n\u001b[0;32m--> 159\u001b[0m node_ids \u001b[38;5;241m=\u001b[39m \u001b[38;5;28mset\u001b[39m([x \u001b[38;5;28;01mfor\u001b[39;00m pair \u001b[38;5;129;01min\u001b[39;00m potential_connections \u001b[38;5;28;01mfor\u001b[39;00m x \u001b[38;5;129;01min\u001b[39;00m pair])\n\u001b[1;32m    160\u001b[0m \u001b[38;5;28mself\u001b[39m\u001b[38;5;241m.\u001b[39mnode_idx2id \u001b[38;5;241m=\u001b[39m {i: node_id \u001b[38;5;28;01mfor\u001b[39;00m i, node_id \u001b[38;5;129;01min\u001b[39;00m \u001b[38;5;28menumerate\u001b[39m(node_ids)}\n\u001b[1;32m    161\u001b[0m \u001b[38;5;28mself\u001b[39m\u001b[38;5;241m.\u001b[39mnode_id2idx \u001b[38;5;241m=\u001b[39m {node_id: i \u001b[38;5;28;01mfor\u001b[39;00m i, node_id \u001b[38;5;129;01min\u001b[39;00m \u001b[38;5;28menumerate\u001b[39m(node_ids)}\n",
      "File \u001b[0;32m~/thesis/DynamicGPTSwarm/swarm/optimizer/edge_optimizer/parameterization.py:159\u001b[0m, in \u001b[0;36m<listcomp>\u001b[0;34m(.0)\u001b[0m\n\u001b[1;32m    157\u001b[0m \u001b[38;5;28msuper\u001b[39m()\u001b[38;5;241m.\u001b[39m\u001b[38;5;21m__init__\u001b[39m(potential_connections)\n\u001b[1;32m    158\u001b[0m \u001b[38;5;28mself\u001b[39m\u001b[38;5;241m.\u001b[39mmodel \u001b[38;5;241m=\u001b[39m model\n\u001b[0;32m--> 159\u001b[0m node_ids \u001b[38;5;241m=\u001b[39m \u001b[38;5;28mset\u001b[39m([x \u001b[38;5;28;01mfor\u001b[39;00m pair \u001b[38;5;129;01min\u001b[39;00m potential_connections \u001b[38;5;28;01mfor\u001b[39;00m x \u001b[38;5;129;01min\u001b[39;00m pair])\n\u001b[1;32m    160\u001b[0m \u001b[38;5;28mself\u001b[39m\u001b[38;5;241m.\u001b[39mnode_idx2id \u001b[38;5;241m=\u001b[39m {i: node_id \u001b[38;5;28;01mfor\u001b[39;00m i, node_id \u001b[38;5;129;01min\u001b[39;00m \u001b[38;5;28menumerate\u001b[39m(node_ids)}\n\u001b[1;32m    161\u001b[0m \u001b[38;5;28mself\u001b[39m\u001b[38;5;241m.\u001b[39mnode_id2idx \u001b[38;5;241m=\u001b[39m {node_id: i \u001b[38;5;28;01mfor\u001b[39;00m i, node_id \u001b[38;5;129;01min\u001b[39;00m \u001b[38;5;28menumerate\u001b[39m(node_ids)}\n",
      "\u001b[0;31mTypeError\u001b[0m: 'int' object is not iterable"
     ]
    }
   ],
   "source": [
    "edge_network = EdgeNetwork(llm_backbone_name=llm_backbone_name, num_edges=len(potential_connections), initial_probability=init_connection_probability)\n",
    "connection_dist = EdgeWiseDistributionByModel(potential_connections, edge_network, domain)\n",
    "\n",
    "connection_dist.load_state_dict(torch.load(\"result/crosswords/experiment_edge_logits_10.pt\"))"
   ]
  },
  {
   "cell_type": "code",
   "execution_count": null,
   "metadata": {},
   "outputs": [],
   "source": [
    "# Create an instance of EdgeNetwork\n",
    "num_edges = 188  # Replace with the number of edges used when saving the model\n",
    "llm_backbone_name = 'gpt2'  # Replace with the name of the model used when saving the model\n",
    "model = EdgeNetwork(llm_backbone_name, num_edges)\n",
    "\n",
    "# Load the state dictionary\n",
    "state_dict = torch.load('result/crosswords/experiment_edge_logits_10.pt')\n",
    "\n",
    "# Remove 'model.' prefix from state dictionary keys and exclude 'order_params'\n",
    "state_dict = {k.replace('model.', ''): v for k, v in state_dict.items() if k != 'model.order_params'}\n",
    "\n",
    "model.load_state_dict(state_dict)"
   ]
  },
  {
   "cell_type": "code",
   "execution_count": null,
   "metadata": {},
   "outputs": [],
   "source": [
    "# Create an instance of EdgeNetwork\n",
    "num_edges = 188  # Replace with the number of edges used when saving the model\n",
    "llm_backbone_name = 'gpt2'  # Replace with the name of the model used when saving the model\n",
    "model = EdgeNetwork(llm_backbone_name, num_edges)\n",
    "\n",
    "# Load the state dictionary\n",
    "state_dict = torch.load('result/crosswords/experiment_edge_logits_10.pt')\n",
    "\n",
    "# Remove 'model.' prefix from state dictionary keys\n",
    "state_dict = {k.replace('model.', ''): v for k, v in state_dict.items()}\n",
    "\n",
    "model.load_state_dict(state_dict)"
   ]
  }
 ],
 "metadata": {
  "kernelspec": {
   "display_name": "weak_to_strong",
   "language": "python",
   "name": "python3"
  },
  "language_info": {
   "codemirror_mode": {
    "name": "ipython",
    "version": 3
   },
   "file_extension": ".py",
   "mimetype": "text/x-python",
   "name": "python",
   "nbconvert_exporter": "python",
   "pygments_lexer": "ipython3",
   "version": "3.10.12"
  }
 },
 "nbformat": 4,
 "nbformat_minor": 2
}
